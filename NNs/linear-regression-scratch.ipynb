{
 "cells": [
  {
   "cell_type": "markdown",
   "id": "6daba213",
   "metadata": {},
   "source": [
    "linear regression from scratch using pytorch and gradient descent"
   ]
  },
  {
   "cell_type": "code",
   "execution_count": null,
   "id": "3e2167fe",
   "metadata": {},
   "outputs": [],
   "source": [
    "from torch import nn\n"
   ]
  }
 ],
 "metadata": {
  "kernelspec": {
   "display_name": "ml-roadmap",
   "language": "python",
   "name": "python3"
  },
  "language_info": {
   "name": "python",
   "version": "-1.-1.-1"
  }
 },
 "nbformat": 4,
 "nbformat_minor": 5
}
