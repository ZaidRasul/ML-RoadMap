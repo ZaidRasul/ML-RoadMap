{
 "cells": [
  {
   "cell_type": "code",
   "execution_count": null,
   "id": "56b39762",
   "metadata": {},
   "outputs": [],
   "source": [
    "from torchvision import datasets\n",
    "from torchvision.transforms import ToTensor #so we can convert the images to tensors\n",
    "from torch.utils.data import DataLoader\n",
    "\n",
    "\n"
   ]
  },
  {
   "cell_type": "code",
   "execution_count": null,
   "id": "689edc8f",
   "metadata": {},
   "outputs": [],
   "source": [
    "train_data = datasets.MNIST(\n",
    "    root = 'data',\n",
    "    train = True, # telling it to load the training dataset\n",
    "    download = True, # to download the dataset \n",
    "    transform = ToTensor()\n",
    ")\n",
    "\n",
    "test_data = datasets.MNIST(\n",
    "    root = 'data',\n",
    "    train = False, # telling it to load the test dataset\n",
    "    download = True, # to download the dataset \n",
    "    transform = ToTensor()\n",
    ")"
   ]
  }
 ],
 "metadata": {
  "language_info": {
   "name": "python"
  }
 },
 "nbformat": 4,
 "nbformat_minor": 5
}
